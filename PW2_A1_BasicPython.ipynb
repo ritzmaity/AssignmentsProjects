{
  "cells": [
    {
      "cell_type": "markdown",
      "metadata": {
        "nbgrader": {
          "grade": false,
          "grade_id": "cell-39806162dd625703",
          "locked": true,
          "schema_version": 3,
          "solution": false,
          "task": false
        },
        "id": "ECCoPTi2oNqm"
      },
      "source": [
        "# Python W2 - Assignment 01 (Mandatory)"
      ]
    },
    {
      "cell_type": "markdown",
      "metadata": {
        "nbgrader": {
          "grade": false,
          "grade_id": "Q1",
          "locked": true,
          "schema_version": 3,
          "solution": false,
          "task": false
        },
        "id": "yAZJ54cRoNqu"
      },
      "source": [
        "### 1. String Manipulation (Total marks 1)\n",
        "\n",
        "Match the following string methods with the respective output in the below options\n",
        "\n",
        "Here,\n",
        " `string= \"this is old python course\"`"
      ]
    },
    {
      "cell_type": "markdown",
      "metadata": {
        "id": "RGi1mjX5oNqx"
      },
      "source": [
        "| Statement | Output |\n",
        "| --- | --- |\n",
        "| (a) string.count(\"is\") | (1) True |\n",
        "| (b) string.replace(\"old\", \"new\") | (2) 12 |\n",
        "| (c) string.index(\"python\") | (3) 'this is new python course' |\n",
        "| (d) string.startswith(\"this\") | (4) 2 |\n",
        "| (e) string.isalnum() | (5) False |\n",
        "| (g) string.strip(\"this is old\") | (6) 'python course' |"
      ]
    },
    {
      "cell_type": "markdown",
      "metadata": {
        "nbgrader": {
          "grade": true,
          "grade_id": "A1",
          "locked": false,
          "points": 2,
          "schema_version": 3,
          "solution": true,
          "task": false
        },
        "id": "0hmjwAwGoNqz"
      },
      "source": [
        "#YOUR ANSWER HERE\n",
        "(a) string.count(\"is\")--------> (4)2\n",
        "(b) string.replace(\"old\", \"new\")--------> (3)'this is new python course' \n",
        "(c) string.index(\"python\")-----------> (2)12\n",
        "(d) string.startswith(\"this\")---------> (1)True\t\n",
        "(e) string.isalnum()------------>(5) False\n",
        "(g) string.strip(\"this is old\")--------->\t(6)'python course'"
      ]
    },
    {
      "cell_type": "code",
      "source": [
        "string=\"this is old python course\""
      ],
      "metadata": {
        "id": "Sryyqkp3wDGe"
      },
      "execution_count": 9,
      "outputs": []
    },
    {
      "cell_type": "code",
      "source": [
        "string.count(\"is\")"
      ],
      "metadata": {
        "colab": {
          "base_uri": "https://localhost:8080/"
        },
        "id": "8HG7Nxz6onuG",
        "outputId": "d6e29539-4a7e-4cc8-df98-5ed195ce2f36"
      },
      "execution_count": 10,
      "outputs": [
        {
          "output_type": "execute_result",
          "data": {
            "text/plain": [
              "2"
            ]
          },
          "metadata": {},
          "execution_count": 10
        }
      ]
    },
    {
      "cell_type": "code",
      "source": [
        "string.replace(\"old\",\"new\")"
      ],
      "metadata": {
        "colab": {
          "base_uri": "https://localhost:8080/",
          "height": 36
        },
        "id": "vB3JN5t5qKfZ",
        "outputId": "e08f35e5-7950-4bc5-a5c6-b99b224d8e28"
      },
      "execution_count": 11,
      "outputs": [
        {
          "output_type": "execute_result",
          "data": {
            "text/plain": [
              "'this is new python course'"
            ],
            "application/vnd.google.colaboratory.intrinsic+json": {
              "type": "string"
            }
          },
          "metadata": {},
          "execution_count": 11
        }
      ]
    },
    {
      "cell_type": "code",
      "source": [
        "string.index(\"python\")"
      ],
      "metadata": {
        "colab": {
          "base_uri": "https://localhost:8080/"
        },
        "id": "NuQ9cdAjrC3n",
        "outputId": "15ddef4a-905c-482e-cb2c-8b784572eddd"
      },
      "execution_count": 12,
      "outputs": [
        {
          "output_type": "execute_result",
          "data": {
            "text/plain": [
              "12"
            ]
          },
          "metadata": {},
          "execution_count": 12
        }
      ]
    },
    {
      "cell_type": "code",
      "source": [
        "string.startswith(\"this\")"
      ],
      "metadata": {
        "colab": {
          "base_uri": "https://localhost:8080/"
        },
        "id": "T7QigCcqtiZm",
        "outputId": "5f71f0f1-12a3-46d9-a197-0c6159bc7ca5"
      },
      "execution_count": 13,
      "outputs": [
        {
          "output_type": "execute_result",
          "data": {
            "text/plain": [
              "True"
            ]
          },
          "metadata": {},
          "execution_count": 13
        }
      ]
    },
    {
      "cell_type": "code",
      "source": [
        "string.isalnum()"
      ],
      "metadata": {
        "colab": {
          "base_uri": "https://localhost:8080/"
        },
        "id": "8jhKaoYvuiOE",
        "outputId": "d8d3cc61-29c2-4c5e-aff4-b8ed976a19e2"
      },
      "execution_count": 14,
      "outputs": [
        {
          "output_type": "execute_result",
          "data": {
            "text/plain": [
              "False"
            ]
          },
          "metadata": {},
          "execution_count": 14
        }
      ]
    },
    {
      "cell_type": "code",
      "source": [
        "string.strip('this is old')"
      ],
      "metadata": {
        "colab": {
          "base_uri": "https://localhost:8080/",
          "height": 36
        },
        "id": "LoUsFw8ipVh5",
        "outputId": "173ca5cd-1837-4fc6-9045-8cd160d5c7cc"
      },
      "execution_count": 15,
      "outputs": [
        {
          "output_type": "execute_result",
          "data": {
            "text/plain": [
              "'python course'"
            ],
            "application/vnd.google.colaboratory.intrinsic+json": {
              "type": "string"
            }
          },
          "metadata": {},
          "execution_count": 15
        }
      ]
    },
    {
      "cell_type": "markdown",
      "metadata": {
        "nbgrader": {
          "grade": false,
          "grade_id": "cell-a13189a026c3771d",
          "locked": true,
          "schema_version": 3,
          "solution": false,
          "task": false
        },
        "id": "zLbbmB4toNq1"
      },
      "source": [
        "### 2. Nested Conditions (Total marks 1)\n",
        "\n",
        "\n"
      ]
    },
    {
      "cell_type": "code",
      "execution_count": null,
      "metadata": {
        "cellView": "code",
        "id": "Hqv-cumAoNq2"
      },
      "outputs": [],
      "source": [
        "\n",
        "x = int(input())\n",
        "y = int(input())\n",
        "z = int(input())\n",
        "\n",
        "#Block-1 Start\n",
        "\n",
        "if x > 0 or y> 0 or z > 0:\n",
        "    if (x > 0 and y> 0) or (y> 0 and z> 0) or (z> 0 and x > 0):\n",
        "        if x > 0 and y> 0 and z > 0:\n",
        "            print('P3')\n",
        "        else:\n",
        "            print('P2')\n",
        "    else:\n",
        "        print('P1')\n",
        "\n",
        "#Block-1 End\n",
        "\n",
        "\n",
        "# Block-2 Start\n",
        "\n",
        "if x <0 or y<0 or z < 0:\n",
        "    if (x < 0 and y< 0) or (y< 0 and z< 0) or (z< 0 and x < 0):\n",
        "            if x < 0 and y< 0 and z < 0:\n",
        "                print('N3')\n",
        "            else:\n",
        "                print('N2')\n",
        "    else:\n",
        "        print('N1')\n",
        "\n",
        "\n",
        "#Block-2 End"
      ]
    },
    {
      "cell_type": "markdown",
      "metadata": {
        "id": "ALuRwA0poNq7"
      },
      "source": [
        "What will be the output for the below input of x,y and z?\n",
        "\n",
        "x= -1\n",
        "y= 4\n",
        "z= 1"
      ]
    },
    {
      "cell_type": "markdown",
      "metadata": {
        "nbgrader": {
          "grade": true,
          "grade_id": "cell-5b0ec5b5f53b7705",
          "locked": false,
          "points": 2,
          "schema_version": 3,
          "solution": true,
          "task": false
        },
        "id": "-4GZjpoHoNq9"
      },
      "source": [
        "#YOUR ANSWER HERE\n",
        "Output of Block1-----------> P2\n",
        "Output of Block2-----------> N1\n"
      ]
    },
    {
      "cell_type": "markdown",
      "source": [
        "**Block1**"
      ],
      "metadata": {
        "id": "WQV5RXu-DhDI"
      }
    },
    {
      "cell_type": "code",
      "source": [
        "x = int(input(\"x:\"))\n",
        "y = int(input(\"y:\"))\n",
        "z = int(input(\"z:\"))\n",
        "\n",
        "if x > 0 or y> 0 or z > 0:\n",
        "    if (x > 0 and y> 0) or (y> 0 and z> 0) or (z> 0 and x > 0):\n",
        "        if x > 0 and y> 0 and z > 0:\n",
        "            print('P3')\n",
        "        else:\n",
        "            print('P2')\n",
        "    else:\n",
        "        print('P1')"
      ],
      "metadata": {
        "colab": {
          "base_uri": "https://localhost:8080/"
        },
        "id": "V7u_UhpiB_yU",
        "outputId": "af08dfc4-24af-405a-8616-e24550fe216e"
      },
      "execution_count": 5,
      "outputs": [
        {
          "output_type": "stream",
          "name": "stdout",
          "text": [
            "x:-1\n",
            "y:4\n",
            "z:1\n",
            "P2\n"
          ]
        }
      ]
    },
    {
      "cell_type": "markdown",
      "source": [
        "**Block2**"
      ],
      "metadata": {
        "id": "l-Nt3hBKDtzI"
      }
    },
    {
      "cell_type": "code",
      "source": [
        "x = int(input(\"x:\"))\n",
        "y = int(input(\"y:\"))\n",
        "z = int(input(\"z:\"))\n",
        "\n",
        "if x <0 or y<0 or z < 0:\n",
        "    if (x < 0 and y< 0) or (y< 0 and z< 0) or (z< 0 and x < 0):\n",
        "            if x < 0 and y< 0 and z < 0:\n",
        "                print('N3')\n",
        "            else:\n",
        "                print('N2')\n",
        "    else:\n",
        "        print('N1')"
      ],
      "metadata": {
        "colab": {
          "base_uri": "https://localhost:8080/"
        },
        "id": "bPMP1ZcpCLgX",
        "outputId": "93cc3917-9db5-4279-bdfd-b6b86319b191"
      },
      "execution_count": 6,
      "outputs": [
        {
          "output_type": "stream",
          "name": "stdout",
          "text": [
            "x:-1\n",
            "y:4\n",
            "z:1\n",
            "N1\n"
          ]
        }
      ]
    },
    {
      "cell_type": "markdown",
      "metadata": {
        "nbgrader": {
          "grade": false,
          "grade_id": "Q2",
          "locked": true,
          "schema_version": 3,
          "solution": false,
          "task": false
        },
        "id": "MR60qh1IoNq9"
      },
      "source": [
        "### 3. String slicing (Total marks 2)\n"
      ]
    },
    {
      "cell_type": "code",
      "execution_count": null,
      "metadata": {
        "id": "i-ICpc2GoNq_"
      },
      "outputs": [],
      "source": [
        "a = int(input())\n",
        "\n",
        "b= int(input())\n",
        "\n",
        "c= int(input())\n",
        "\n",
        "d = int(input())\n",
        "\n",
        "e = int(input())\n",
        "\n",
        "print(s[-a:-len(s):-3])\n",
        "\n",
        "print (s[::-b])\n",
        "\n",
        "print (s[c:0:-3])\n",
        "\n",
        "print (s[len(s): - d:-3])\n",
        "\n",
        "print (s[:e:-3])"
      ]
    },
    {
      "cell_type": "markdown",
      "metadata": {
        "nbgrader": {
          "grade": true,
          "grade_id": "A2",
          "locked": false,
          "points": 2,
          "schema_version": 3,
          "solution": true,
          "task": false
        },
        "id": "Fakiw1NSoNrA"
      },
      "source": [
        "Consider that the string `s='abcdefghijklmnopqrstuvwxyz'`\\\n",
        "For what user input of a, b, c, d and e (where 0 <= a,b,c,d,e< len(s) ) does the above code-snippet print following output?\\\n",
        "It is a Numerical Answer Type (NAT) question. Enter your input value separated by, without any space like: 7,15,0,4,0\n",
        "\n",
        "`zwtqnkheb`\n",
        "\n",
        "`zwtqnkheb`\n",
        "\n",
        "`zwtqnkheb`\n",
        "\n",
        "`zwtqnkheb`\n",
        "\n",
        "`zwtqnkheb`"
      ]
    },
    {
      "cell_type": "markdown",
      "source": [
        "#YOUR ANSWER HERE\n",
        "\n",
        "To get the desired result \"zwtqnkheb\"  of all, inputs have to take----------> a=1, b=3, c=26, d=0, e=0"
      ],
      "metadata": {
        "id": "zciNahsNpvKZ"
      }
    },
    {
      "cell_type": "code",
      "execution_count": 16,
      "metadata": {
        "nbgrader": {
          "grade": false,
          "grade_id": "cell-c583dcd635f03dab",
          "locked": true,
          "schema_version": 3,
          "solution": false,
          "task": false
        },
        "id": "KwRnHhV7oNrB",
        "colab": {
          "base_uri": "https://localhost:8080/"
        },
        "outputId": "e9f41605-b82c-4273-c7ff-b3675ccaefd7"
      },
      "outputs": [
        {
          "output_type": "stream",
          "name": "stdout",
          "text": [
            "a=1\n",
            "b=3\n",
            "c=26\n",
            "d=0\n",
            "e=0\n",
            "zwtqnkheb\n",
            "zwtqnkheb\n",
            "zwtqnkheb\n",
            "zwtqnkheb\n",
            "zwtqnkheb\n"
          ]
        }
      ],
      "source": [
        "\n",
        "s='abcdefghijklmnopqrstuvwxyz'\n",
        "a = int(input(\"a=\"))\n",
        "\n",
        "b= int(input(\"b=\"))\n",
        "\n",
        "c= int(input(\"c=\"))\n",
        "\n",
        "d = int(input(\"d=\"))\n",
        "\n",
        "e = int(input(\"e=\"))\n",
        "\n",
        "print(s[-a:-len(s):-3])\n",
        "\n",
        "print (s[::-b])\n",
        "\n",
        "print (s[c:0:-3])\n",
        "\n",
        "print (s[len(s): - d:-3])\n",
        "\n",
        "print (s[:e:-3])"
      ]
    },
    {
      "cell_type": "markdown",
      "metadata": {
        "nbgrader": {
          "grade": false,
          "grade_id": "Q3",
          "locked": true,
          "schema_version": 3,
          "solution": false,
          "task": false
        },
        "id": "ouORAg7RoNrC"
      },
      "source": [
        "### 4. Code Brackets (Total marks 2)\n",
        "\n",
        "Consider the program in the code cell below;"
      ]
    },
    {
      "cell_type": "code",
      "execution_count": 13,
      "metadata": {
        "id": "pycst2u4oNrD"
      },
      "outputs": [],
      "source": [
        "match= False\n",
        "if s.count('(') == s.count(')'):\n",
        "    if s.count('{') == s.count('}'):\n",
        "        if s.count('[') == s.count(']'):\n",
        "            match = True"
      ]
    },
    {
      "cell_type": "markdown",
      "metadata": {
        "nbgrader": {
          "grade": true,
          "grade_id": "A3",
          "locked": false,
          "points": 2,
          "schema_version": 3,
          "solution": true,
          "task": false
        },
        "id": "o50Zbg6xoNrD"
      },
      "source": [
        "If s = \"abcd(efgh(ijkl}{{}))\" what will be the value of match at the end of execution and justification?\n",
        "\n",
        "1. False, the number of opening and closing brackets are only considered\n",
        "2. False, the position of opening and closing brackets are not considered.\n",
        "3. True, the number of opening and closing brackets are only considered\n",
        "4. True, the number and position of opening and closing brackets are considered.\n"
      ]
    },
    {
      "cell_type": "markdown",
      "source": [
        "#YOUR ANSWER HERE\n",
        "Ans: 3.True, the number of opening and closing brackets are only considered"
      ],
      "metadata": {
        "id": "t_CBMlaGqqjz"
      }
    },
    {
      "cell_type": "code",
      "execution_count": 1,
      "metadata": {
        "nbgrader": {
          "grade": false,
          "grade_id": "cell-f0e0b9c35862e705",
          "locked": true,
          "schema_version": 3,
          "solution": false,
          "task": false
        },
        "id": "4BFUB-LjoNrE",
        "colab": {
          "base_uri": "https://localhost:8080/"
        },
        "outputId": "ea07b788-3e30-4059-8d27-0daad0f9fa18"
      },
      "outputs": [
        {
          "output_type": "stream",
          "name": "stdout",
          "text": [
            "True\n"
          ]
        }
      ],
      "source": [
        "s=\"abcd(efgh(ijkl}{{}))\"\n",
        "match= False\n",
        "if s.count('(') == s.count(')'):\n",
        "    if s.count('{') == s.count('}'):\n",
        "        if s.count('[') == s.count(']'):\n",
        "            match = True\n",
        "print(match)"
      ]
    },
    {
      "cell_type": "markdown",
      "metadata": {
        "id": "6P8BETr6oNrG"
      },
      "source": [
        "## Programming Questions\n",
        "\n",
        "Instructions:\n",
        "- Enter your solution in the cell block below only. Double click to edit.\n",
        "- Do not edit anything else apart from 'YOUR ANSWER HERE' for your solution"
      ]
    },
    {
      "cell_type": "code",
      "execution_count": null,
      "metadata": {
        "id": "7yP6mSfooNrH"
      },
      "outputs": [],
      "source": [
        "#YOUR ANSWER7 HERE"
      ]
    },
    {
      "cell_type": "markdown",
      "metadata": {
        "id": "h5xHOnAkoNrI"
      },
      "source": [
        "### 5. Accept a sentence as input and find the number of words in it. Assume that the sentence has no punctuation marks (Total marks 2)\n",
        "\n",
        "\n",
        "Example:\n",
        "\n",
        "what a shot - 3 words\n",
        "\n",
        "this is a chair - 4 words"
      ]
    },
    {
      "cell_type": "code",
      "execution_count": 4,
      "metadata": {
        "id": "mE8s5090oNrJ",
        "colab": {
          "base_uri": "https://localhost:8080/"
        },
        "outputId": "0b4f3f33-39d6-4352-d13f-8c7ddfe6ec22"
      },
      "outputs": [
        {
          "output_type": "stream",
          "name": "stdout",
          "text": [
            "The number of words in this sentence is: 5\n"
          ]
        }
      ],
      "source": [
        "#YOUR ANSWER HERE\n",
        "sen=\"python is platform independent language\"\n",
        "num=len(sen.split(' '))\n",
        "print(\"The number of words in this sentence is:\",num)"
      ]
    },
    {
      "cell_type": "markdown",
      "metadata": {
        "id": "-t0V_-V3oNrL"
      },
      "source": [
        "### 6. Sandwich number (Total marks 2)\n",
        "\n",
        "A three digit number is called a sandwich number if the difference between its first and last digit is equal to its middle digit. Accept a three digit number as input and print “sandwich” if the number is a sandwich number. Print “plain” if the number is not a sandwich number. For example, 123 and 853 are sandwich numbers."
      ]
    },
    {
      "cell_type": "code",
      "execution_count": 8,
      "metadata": {
        "id": "icWvntw5oNrb",
        "colab": {
          "base_uri": "https://localhost:8080/"
        },
        "outputId": "e099890a-d315-40c8-bc41-db60b6889cc6"
      },
      "outputs": [
        {
          "output_type": "stream",
          "name": "stdout",
          "text": [
            "Put a number you want to check=358\n",
            "sandwich\n"
          ]
        }
      ],
      "source": [
        "#YOUR ANSWER HERE\n",
        "a=int(input(\"Put a number you want to check=\"))\n",
        "\n",
        "#print(\"value of a=\",a)\n",
        "b=(a%10)\n",
        "c=(a//10)\n",
        "d=(c%10)\n",
        "e=(c//10)\n",
        "f=(e%10)\n",
        "if(d==b-e or d==e-b):\n",
        " print(\"sandwich\")\n",
        "else:\n",
        "  print(\"plain\")"
      ]
    }
  ],
  "metadata": {
    "celltoolbar": "Create Assignment",
    "kernelspec": {
      "display_name": "Python 3 (ipykernel)",
      "language": "python",
      "name": "python3"
    },
    "language_info": {
      "codemirror_mode": {
        "name": "ipython",
        "version": 3
      },
      "file_extension": ".py",
      "mimetype": "text/x-python",
      "name": "python",
      "nbconvert_exporter": "python",
      "pygments_lexer": "ipython3",
      "version": "3.9.7"
    },
    "toc": {
      "base_numbering": 1,
      "nav_menu": {},
      "number_sections": true,
      "sideBar": true,
      "skip_h1_title": false,
      "title_cell": "Table of Contents",
      "title_sidebar": "Contents",
      "toc_cell": false,
      "toc_position": {},
      "toc_section_display": true,
      "toc_window_display": false
    },
    "varInspector": {
      "cols": {
        "lenName": 16,
        "lenType": 16,
        "lenVar": 40
      },
      "kernels_config": {
        "python": {
          "delete_cmd_postfix": "",
          "delete_cmd_prefix": "del ",
          "library": "var_list.py",
          "varRefreshCmd": "print(var_dic_list())"
        },
        "r": {
          "delete_cmd_postfix": ") ",
          "delete_cmd_prefix": "rm(",
          "library": "var_list.r",
          "varRefreshCmd": "cat(var_dic_list()) "
        }
      },
      "types_to_exclude": [
        "module",
        "function",
        "builtin_function_or_method",
        "instance",
        "_Feature"
      ],
      "window_display": false
    },
    "colab": {
      "name": "PW2_A1_mandatory_DS16.ipynb",
      "provenance": [],
      "collapsed_sections": []
    }
  },
  "nbformat": 4,
  "nbformat_minor": 0
}